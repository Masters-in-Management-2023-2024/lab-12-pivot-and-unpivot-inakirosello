{
  "cells": [
    {
      "cell_type": "markdown",
      "metadata": {
        "id": "Kz8ktTSczUJc"
      },
      "source": [
        "# Lab 12 - Pivoting and unpivoting\n",
        "\n",
        "This lab focuses on data transformation using pivoting and unpivoting operations with the polars library."
      ]
    },
    {
      "cell_type": "markdown",
      "metadata": {
        "id": "_8UmlSMizUJh"
      },
      "source": [
        "## Load your packages\n",
        "\n",
        "You will need the `polars` package for this assignment. We'll also use `numpy` for some calculations."
      ]
    },
    {
      "cell_type": "code",
      "execution_count": 5,
      "metadata": {
        "colab": {
          "base_uri": "https://localhost:8080/",
          "height": 212
        },
        "id": "nJTnaJ8rzUJi",
        "outputId": "67451a2f-18c4-423a-d171-e55becef440a"
      },
      "outputs": [
        {
          "output_type": "display_data",
          "data": {
            "text/plain": [
              "<IPython.core.display.HTML object>"
            ],
            "text/html": [
              "\n",
              "     <input type=\"file\" id=\"files-07ec28be-edc0-4026-a79b-9ecc6fadffa8\" name=\"files[]\" multiple disabled\n",
              "        style=\"border:none\" />\n",
              "     <output id=\"result-07ec28be-edc0-4026-a79b-9ecc6fadffa8\">\n",
              "      Upload widget is only available when the cell has been executed in the\n",
              "      current browser session. Please rerun this cell to enable.\n",
              "      </output>\n",
              "      <script>// Copyright 2017 Google LLC\n",
              "//\n",
              "// Licensed under the Apache License, Version 2.0 (the \"License\");\n",
              "// you may not use this file except in compliance with the License.\n",
              "// You may obtain a copy of the License at\n",
              "//\n",
              "//      http://www.apache.org/licenses/LICENSE-2.0\n",
              "//\n",
              "// Unless required by applicable law or agreed to in writing, software\n",
              "// distributed under the License is distributed on an \"AS IS\" BASIS,\n",
              "// WITHOUT WARRANTIES OR CONDITIONS OF ANY KIND, either express or implied.\n",
              "// See the License for the specific language governing permissions and\n",
              "// limitations under the License.\n",
              "\n",
              "/**\n",
              " * @fileoverview Helpers for google.colab Python module.\n",
              " */\n",
              "(function(scope) {\n",
              "function span(text, styleAttributes = {}) {\n",
              "  const element = document.createElement('span');\n",
              "  element.textContent = text;\n",
              "  for (const key of Object.keys(styleAttributes)) {\n",
              "    element.style[key] = styleAttributes[key];\n",
              "  }\n",
              "  return element;\n",
              "}\n",
              "\n",
              "// Max number of bytes which will be uploaded at a time.\n",
              "const MAX_PAYLOAD_SIZE = 100 * 1024;\n",
              "\n",
              "function _uploadFiles(inputId, outputId) {\n",
              "  const steps = uploadFilesStep(inputId, outputId);\n",
              "  const outputElement = document.getElementById(outputId);\n",
              "  // Cache steps on the outputElement to make it available for the next call\n",
              "  // to uploadFilesContinue from Python.\n",
              "  outputElement.steps = steps;\n",
              "\n",
              "  return _uploadFilesContinue(outputId);\n",
              "}\n",
              "\n",
              "// This is roughly an async generator (not supported in the browser yet),\n",
              "// where there are multiple asynchronous steps and the Python side is going\n",
              "// to poll for completion of each step.\n",
              "// This uses a Promise to block the python side on completion of each step,\n",
              "// then passes the result of the previous step as the input to the next step.\n",
              "function _uploadFilesContinue(outputId) {\n",
              "  const outputElement = document.getElementById(outputId);\n",
              "  const steps = outputElement.steps;\n",
              "\n",
              "  const next = steps.next(outputElement.lastPromiseValue);\n",
              "  return Promise.resolve(next.value.promise).then((value) => {\n",
              "    // Cache the last promise value to make it available to the next\n",
              "    // step of the generator.\n",
              "    outputElement.lastPromiseValue = value;\n",
              "    return next.value.response;\n",
              "  });\n",
              "}\n",
              "\n",
              "/**\n",
              " * Generator function which is called between each async step of the upload\n",
              " * process.\n",
              " * @param {string} inputId Element ID of the input file picker element.\n",
              " * @param {string} outputId Element ID of the output display.\n",
              " * @return {!Iterable<!Object>} Iterable of next steps.\n",
              " */\n",
              "function* uploadFilesStep(inputId, outputId) {\n",
              "  const inputElement = document.getElementById(inputId);\n",
              "  inputElement.disabled = false;\n",
              "\n",
              "  const outputElement = document.getElementById(outputId);\n",
              "  outputElement.innerHTML = '';\n",
              "\n",
              "  const pickedPromise = new Promise((resolve) => {\n",
              "    inputElement.addEventListener('change', (e) => {\n",
              "      resolve(e.target.files);\n",
              "    });\n",
              "  });\n",
              "\n",
              "  const cancel = document.createElement('button');\n",
              "  inputElement.parentElement.appendChild(cancel);\n",
              "  cancel.textContent = 'Cancel upload';\n",
              "  const cancelPromise = new Promise((resolve) => {\n",
              "    cancel.onclick = () => {\n",
              "      resolve(null);\n",
              "    };\n",
              "  });\n",
              "\n",
              "  // Wait for the user to pick the files.\n",
              "  const files = yield {\n",
              "    promise: Promise.race([pickedPromise, cancelPromise]),\n",
              "    response: {\n",
              "      action: 'starting',\n",
              "    }\n",
              "  };\n",
              "\n",
              "  cancel.remove();\n",
              "\n",
              "  // Disable the input element since further picks are not allowed.\n",
              "  inputElement.disabled = true;\n",
              "\n",
              "  if (!files) {\n",
              "    return {\n",
              "      response: {\n",
              "        action: 'complete',\n",
              "      }\n",
              "    };\n",
              "  }\n",
              "\n",
              "  for (const file of files) {\n",
              "    const li = document.createElement('li');\n",
              "    li.append(span(file.name, {fontWeight: 'bold'}));\n",
              "    li.append(span(\n",
              "        `(${file.type || 'n/a'}) - ${file.size} bytes, ` +\n",
              "        `last modified: ${\n",
              "            file.lastModifiedDate ? file.lastModifiedDate.toLocaleDateString() :\n",
              "                                    'n/a'} - `));\n",
              "    const percent = span('0% done');\n",
              "    li.appendChild(percent);\n",
              "\n",
              "    outputElement.appendChild(li);\n",
              "\n",
              "    const fileDataPromise = new Promise((resolve) => {\n",
              "      const reader = new FileReader();\n",
              "      reader.onload = (e) => {\n",
              "        resolve(e.target.result);\n",
              "      };\n",
              "      reader.readAsArrayBuffer(file);\n",
              "    });\n",
              "    // Wait for the data to be ready.\n",
              "    let fileData = yield {\n",
              "      promise: fileDataPromise,\n",
              "      response: {\n",
              "        action: 'continue',\n",
              "      }\n",
              "    };\n",
              "\n",
              "    // Use a chunked sending to avoid message size limits. See b/62115660.\n",
              "    let position = 0;\n",
              "    do {\n",
              "      const length = Math.min(fileData.byteLength - position, MAX_PAYLOAD_SIZE);\n",
              "      const chunk = new Uint8Array(fileData, position, length);\n",
              "      position += length;\n",
              "\n",
              "      const base64 = btoa(String.fromCharCode.apply(null, chunk));\n",
              "      yield {\n",
              "        response: {\n",
              "          action: 'append',\n",
              "          file: file.name,\n",
              "          data: base64,\n",
              "        },\n",
              "      };\n",
              "\n",
              "      let percentDone = fileData.byteLength === 0 ?\n",
              "          100 :\n",
              "          Math.round((position / fileData.byteLength) * 100);\n",
              "      percent.textContent = `${percentDone}% done`;\n",
              "\n",
              "    } while (position < fileData.byteLength);\n",
              "  }\n",
              "\n",
              "  // All done.\n",
              "  yield {\n",
              "    response: {\n",
              "      action: 'complete',\n",
              "    }\n",
              "  };\n",
              "}\n",
              "\n",
              "scope.google = scope.google || {};\n",
              "scope.google.colab = scope.google.colab || {};\n",
              "scope.google.colab._files = {\n",
              "  _uploadFiles,\n",
              "  _uploadFilesContinue,\n",
              "};\n",
              "})(self);\n",
              "</script> "
            ]
          },
          "metadata": {}
        },
        {
          "output_type": "stream",
          "name": "stdout",
          "text": [
            "Saving billboard.csv to billboard (3).csv\n",
            "Saving economics_long.csv to economics_long (3).csv\n",
            "Saving table2.csv to table2 (3).csv\n",
            "Saving us_rent_income.csv to us_rent_income (3).csv\n",
            "Saving world_bank_pop.csv to world_bank_pop (3).csv\n"
          ]
        }
      ],
      "source": [
        "# Import required packages\n",
        "import polars as pl\n",
        "from google.colab import files\n",
        "\n",
        "uploaded = files.upload()\n",
        "\n",
        "# Load datasets from uploaded files\n",
        "billboard = pl.read_csv(\"billboard (2).csv\")\n",
        "economics_long = pl.read_csv(\"economics_long (2).csv\", null_values=[\"NA\", \"\"])\n",
        "table2 = pl.read_csv(\"table2 (2).csv\", null_values=[\"NA\", \"\"])\n",
        "us_rent_income = pl.read_csv(\"us_rent_income (2).csv\", null_values=[\"NA\", \"\"])\n",
        "world_bank_pop = pl.read_csv(\"world_bank_pop (2).csv\", null_values=[\"NA\",\"\"])"
      ]
    },
    {
      "cell_type": "markdown",
      "metadata": {
        "id": "wNA-XZzxzUJk"
      },
      "source": [
        "# Question 1: Pivot US Economic Indicator Data"
      ]
    },
    {
      "cell_type": "markdown",
      "metadata": {
        "id": "eQlMuo6ozUJl"
      },
      "source": [
        "## 1a. Pivot data\n",
        "\n",
        "Load the `economics_long.csv` dataset from the `data/` folder. You'll notice that in the `economics_long` dataset's `value` column, there are different types of measurements. Transform this dataset so that the unique values for the `variable` field become columns of their own.\n",
        "\n",
        "**Please write code below to pivot the data. The output should be a DataFrame. You must \"pivot\" the data to receive full credit on this question.**"
      ]
    },
    {
      "cell_type": "code",
      "execution_count": 6,
      "metadata": {
        "colab": {
          "base_uri": "https://localhost:8080/"
        },
        "id": "d2LbaotBzUJm",
        "outputId": "b9a34dd7-9118-4692-91c4-687c5f09ad2a"
      },
      "outputs": [
        {
          "output_type": "stream",
          "name": "stdout",
          "text": [
            "Economics wide dataset shape: (574, 6)\n",
            "shape: (10, 6)\n",
            "┌────────────┬───────┬──────────┬─────────┬─────────┬──────────┐\n",
            "│ date       ┆ pce   ┆ pop      ┆ psavert ┆ uempmed ┆ unemploy │\n",
            "│ ---        ┆ ---   ┆ ---      ┆ ---     ┆ ---     ┆ ---      │\n",
            "│ str        ┆ f64   ┆ f64      ┆ f64     ┆ f64     ┆ f64      │\n",
            "╞════════════╪═══════╪══════════╪═════════╪═════════╪══════════╡\n",
            "│ 1967-07-01 ┆ 506.7 ┆ 198712.0 ┆ 12.6    ┆ 4.5     ┆ 2944.0   │\n",
            "│ 1967-08-01 ┆ 509.8 ┆ 198911.0 ┆ 12.6    ┆ 4.7     ┆ 2945.0   │\n",
            "│ 1967-09-01 ┆ 515.6 ┆ 199113.0 ┆ 11.9    ┆ 4.6     ┆ 2958.0   │\n",
            "│ 1967-10-01 ┆ 512.2 ┆ 199311.0 ┆ 12.9    ┆ 4.9     ┆ 3143.0   │\n",
            "│ 1967-11-01 ┆ 517.4 ┆ 199498.0 ┆ 12.8    ┆ 4.7     ┆ 3066.0   │\n",
            "│ 1967-12-01 ┆ 525.1 ┆ 199657.0 ┆ 11.8    ┆ 4.8     ┆ 3018.0   │\n",
            "│ 1968-01-01 ┆ 530.9 ┆ 199808.0 ┆ 11.7    ┆ 5.1     ┆ 2878.0   │\n",
            "│ 1968-02-01 ┆ 533.6 ┆ 199920.0 ┆ 12.3    ┆ 4.5     ┆ 3001.0   │\n",
            "│ 1968-03-01 ┆ 544.3 ┆ 200056.0 ┆ 11.7    ┆ 4.1     ┆ 2877.0   │\n",
            "│ 1968-04-01 ┆ 544.0 ┆ 200208.0 ┆ 12.3    ┆ 4.6     ┆ 2709.0   │\n",
            "└────────────┴───────┴──────────┴─────────┴─────────┴──────────┘\n"
          ]
        },
        {
          "output_type": "stream",
          "name": "stderr",
          "text": [
            "/tmp/ipython-input-1530398975.py:5: DeprecationWarning: The argument `columns` for `DataFrame.pivot` is deprecated. It has been renamed to `on`.\n",
            "  economics_wide = economics_long.pivot(\n"
          ]
        }
      ],
      "source": [
        "# Load economics_long data\n",
        "import polars as pl\n",
        "\n",
        "# Pivot data: variable values become columns, values fill them\n",
        "economics_wide = economics_long.pivot(\n",
        "    index=[\"date\"],\n",
        "    columns=\"variable\",\n",
        "    values=\"value\",\n",
        "    aggregate_function=\"first\"\n",
        ")\n",
        "\n",
        "print(\"Economics wide dataset shape:\", economics_wide.shape)\n",
        "print(economics_wide.head(10))"
      ]
    },
    {
      "cell_type": "markdown",
      "metadata": {
        "id": "Si_Kko92zUJn"
      },
      "source": [
        "## 1b. Calculate median unemployment for 2010-01-01 and beyond\n",
        "\n",
        "Next, compute the median unemployment metric (as defined by `unemploy`) for 2010-01-01 and beyond.\n",
        "\n",
        "**Please write code below. The output should show the median value. You must use the dataframe created in 1a.**"
      ]
    },
    {
      "cell_type": "code",
      "execution_count": 11,
      "metadata": {
        "colab": {
          "base_uri": "https://localhost:8080/"
        },
        "id": "RQv7sbYGzUJo",
        "outputId": "03fd9b55-8249-45c0-cfc7-bdf6c633bdb4"
      },
      "outputs": [
        {
          "output_type": "stream",
          "name": "stdout",
          "text": [
            "People unemployed: 12,471\n"
          ]
        },
        {
          "output_type": "stream",
          "name": "stderr",
          "text": [
            "/tmp/ipython-input-969471969.py:4: DeprecationWarning: The argument `columns` for `DataFrame.pivot` is deprecated. It has been renamed to `on`.\n",
            "  economics_wide = economics_long.pivot(\n"
          ]
        }
      ],
      "source": [
        "# YOUR CODE HERE: Filter for dates >= '2010-01-01' and calculate median unemployment\n",
        "# Hint: You'll need to filter the dataframe and then calculate the median of the 'unemploy' column\n",
        "\n",
        "economics_wide = economics_long.pivot(\n",
        "    index=[\"date\"],\n",
        "    columns=\"variable\",\n",
        "    values=\"value\",\n",
        "    aggregate_function=\"first\"\n",
        ")\n",
        "\n",
        "economics_wide = economics_wide.with_columns(\n",
        "    pl.col(\"date\").str.strptime(pl.Date, \"%Y-%m-%d\")\n",
        ")\n",
        "\n",
        "# Filter for 2010+, compute median unemployment\n",
        "median_unemploy = (\n",
        "    economics_wide\n",
        "    .filter(pl.col(\"date\") >= pl.lit(\"2010-01-01\").str.strptime(pl.Date, \"%Y-%m-%d\"))\n",
        "    .select(pl.col(\"unemploy\").median())\n",
        ")\n",
        "\n",
        "median_value = median_unemploy[0, 0]\n",
        "\n",
        "print(f\"People unemployed: {median_value:,.0f}\")"
      ]
    },
    {
      "cell_type": "markdown",
      "metadata": {
        "id": "SRNphFg6zUJp"
      },
      "source": [
        "### Answer: The median unemployment for 2010-01-01 and beyond is: ____12,471 people______"
      ]
    },
    {
      "cell_type": "markdown",
      "metadata": {
        "id": "ZqM7t0ObzUJp"
      },
      "source": [
        "# Question 2: Air Passenger data"
      ]
    },
    {
      "cell_type": "markdown",
      "metadata": {
        "id": "C788g9QdzUJq"
      },
      "source": [
        "## 2a. Unpivot data\n",
        "\n",
        "The `AirPassengers` dataset is wide, which makes it difficult to aggregate. Transform the `AirPassengers` dataset from wide to long. The resulting dataset should have three columns: one column representing year, one column representing month, and one column representing the number of air passengers.\n",
        "\n",
        "**Please write code below to unpivot the data. The output should be a DataFrame. You must \"unpivot\" the data to receive full credit on this question.**"
      ]
    },
    {
      "cell_type": "code",
      "execution_count": 17,
      "metadata": {
        "colab": {
          "base_uri": "https://localhost:8080/"
        },
        "id": "Wia1JtRWzUJq",
        "outputId": "0c96c40b-95e6-42b4-aeee-c25712f8e6a9"
      },
      "outputs": [
        {
          "output_type": "stream",
          "name": "stdout",
          "text": [
            "shape: (12, 3)\n",
            "┌──────┬───────┬────────────┐\n",
            "│ Year ┆ month ┆ passengers │\n",
            "│ ---  ┆ ---   ┆ ---        │\n",
            "│ i64  ┆ str   ┆ i64        │\n",
            "╞══════╪═══════╪════════════╡\n",
            "│ 1949 ┆ Jan   ┆ 112        │\n",
            "│ 1950 ┆ Jan   ┆ 115        │\n",
            "│ 1951 ┆ Jan   ┆ 145        │\n",
            "│ 1952 ┆ Jan   ┆ 171        │\n",
            "│ 1953 ┆ Jan   ┆ 196        │\n",
            "│ …    ┆ …     ┆ …          │\n",
            "│ 1956 ┆ Jan   ┆ 284        │\n",
            "│ 1957 ┆ Jan   ┆ 315        │\n",
            "│ 1958 ┆ Jan   ┆ 340        │\n",
            "│ 1959 ┆ Jan   ┆ 360        │\n",
            "│ 1960 ┆ Jan   ┆ 417        │\n",
            "└──────┴───────┴────────────┘\n"
          ]
        }
      ],
      "source": [
        "import polars as pl\n",
        "from google.colab import files\n",
        "\n",
        "# Unpivot wide → long\n",
        "air_long = air_passengers.unpivot(\n",
        "    index=[\"Year\"], # Use 'Year' with a capital 'Y'\n",
        "    on=[c for c in air_passengers.columns if c != \"Year\"], # Use 'Year' here too\n",
        "    variable_name=\"month\",\n",
        "    value_name=\"passengers\"\n",
        ")\n",
        "\n",
        "# Preview\n",
        "print(air_long.head(12))"
      ]
    },
    {
      "cell_type": "markdown",
      "metadata": {
        "id": "MrhDmmpCzUJr"
      },
      "source": [
        "## 2b. Find the standard deviation between 1955 and 1960\n",
        "\n",
        "Next, compute the standard deviation of passengers between (and including) the years 1955 and 1960.\n",
        "\n",
        "**Please write code below. The output should show the standard deviation. You must use the dataframe created in 2a.**"
      ]
    },
    {
      "cell_type": "code",
      "execution_count": 20,
      "metadata": {
        "colab": {
          "base_uri": "https://localhost:8080/"
        },
        "id": "exzL9x4UzUJr",
        "outputId": "8438d922-ee56-4df4-a7f3-f6f41d091a9c"
      },
      "outputs": [
        {
          "output_type": "stream",
          "name": "stdout",
          "text": [
            "Standard Deviation (1955–1960): 86.44\n",
            "The standard deviation of airline passengers between 1955 and 1960 is: 86.44\n"
          ]
        }
      ],
      "source": [
        "# YOUR CODE HERE: Filter for years 1955-1960 and calculate standard deviation\n",
        "# Hint: Filter the long format data for years between 1955 and 1960 (inclusive)\n",
        "# Then calculate the standard deviation of the passenger values\n",
        "\n",
        "\n",
        "std_passengers = (\n",
        "    air_long\n",
        "    .filter((pl.col(\"Year\") >= 1955) & (pl.col(\"Year\") <= 1960))\n",
        "    .select(pl.col(\"passengers\").std().alias(\"std_passengers\"))\n",
        ")\n",
        "\n",
        "\n",
        "std_value = std_passengers[0, 0]\n",
        "\n",
        "print(f\"Standard Deviation (1955–1960): {std_value:,.2f}\")\n",
        "print(f\"The standard deviation of airline passengers between 1955 and 1960 is: {std_value:.2f}\")"
      ]
    },
    {
      "cell_type": "markdown",
      "metadata": {
        "id": "AD7252cNzUJr"
      },
      "source": [
        "### The standard deviation of airline passengers between (and including) the years 1955 and 1960 is: __________"
      ]
    },
    {
      "cell_type": "markdown",
      "metadata": {
        "id": "J_vZ42SUzUJs"
      },
      "source": [
        "# Question 3: WHO tuberculosis case data"
      ]
    },
    {
      "cell_type": "markdown",
      "metadata": {
        "id": "4VNyAuRFzUJs"
      },
      "source": [
        "## 3a. Pivot data\n",
        "\n",
        "Load the `table2.csv` dataset from the `data/` folder. This contains data for country populations and tuberculosis case metrics. You'll notice that the metrics for `cases` and `population` are in the same column (`count`). Pivot the data so that the metrics for `cases` and `population` are in their own columns.\n",
        "\n",
        "**Please write code below to pivot the data. The output should be a DataFrame. You must \"pivot\" the data to receive full credit on this question.**"
      ]
    },
    {
      "cell_type": "code",
      "execution_count": 23,
      "metadata": {
        "colab": {
          "base_uri": "https://localhost:8080/"
        },
        "id": "eHYRncNVzUJs",
        "outputId": "2eec0db8-88cc-4bb5-ec34-9d29705d4e3b"
      },
      "outputs": [
        {
          "output_type": "stream",
          "name": "stdout",
          "text": [
            "shape: (6, 4)\n",
            "┌─────────────┬──────┬────────┬────────────┐\n",
            "│ country     ┆ year ┆ cases  ┆ population │\n",
            "│ ---         ┆ ---  ┆ ---    ┆ ---        │\n",
            "│ str         ┆ i64  ┆ i64    ┆ i64        │\n",
            "╞═════════════╪══════╪════════╪════════════╡\n",
            "│ Afghanistan ┆ 1999 ┆ 745    ┆ 19987071   │\n",
            "│ Afghanistan ┆ 2000 ┆ 2666   ┆ 20595360   │\n",
            "│ Brazil      ┆ 1999 ┆ 37737  ┆ 172006362  │\n",
            "│ Brazil      ┆ 2000 ┆ 80488  ┆ 174504898  │\n",
            "│ China       ┆ 1999 ┆ 212258 ┆ 1272915272 │\n",
            "│ China       ┆ 2000 ┆ 213766 ┆ 1280428583 │\n",
            "└─────────────┴──────┴────────┴────────────┘\n"
          ]
        },
        {
          "output_type": "stream",
          "name": "stderr",
          "text": [
            "/tmp/ipython-input-1220276543.py:6: DeprecationWarning: The argument `columns` for `DataFrame.pivot` is deprecated. It has been renamed to `on`.\n",
            "  table2_wide = table2.pivot(\n"
          ]
        }
      ],
      "source": [
        "import polars as pl\n",
        "\n",
        "\n",
        "\n",
        "# Pivot so 'type' values become separate columns\n",
        "table2_wide = table2.pivot(\n",
        "    index=[\"country\", \"year\"],\n",
        "    columns=\"type\",\n",
        "    values=\"count\",\n",
        "    aggregate_function=\"first\"\n",
        ")\n",
        "\n",
        "print(table2_wide.head(10))"
      ]
    },
    {
      "cell_type": "markdown",
      "metadata": {
        "id": "1gxPsKf1zUJt"
      },
      "source": [
        "## 3b. Calculate highest cases/population ratio for 1999\n",
        "\n",
        "Now that you have `cases` and `population` in their own columns, you can perform analysis. Create a new column in this dataset called `ratio` that divides `cases` by `population`. Next, filter the data to only include rows from the `year` of 1999. What is the country with the highest `cases`/`population` ratio?\n",
        "\n",
        "**Please write code below. You must use the dataframe created in 3a.**"
      ]
    },
    {
      "cell_type": "code",
      "execution_count": 27,
      "metadata": {
        "colab": {
          "base_uri": "https://localhost:8080/"
        },
        "id": "6ayLPD-lzUJt",
        "outputId": "8dd7bfe2-f8db-4be6-e397-0205ea735516"
      },
      "outputs": [
        {
          "output_type": "stream",
          "name": "stdout",
          "text": [
            "Highest cases per 100,000 people in 1999: Brazil (21.94)\n"
          ]
        }
      ],
      "source": [
        "# Add ratio column (cases per 100,000 people)\n",
        "table2_ratio = table2_wide.with_columns(\n",
        "    ((pl.col(\"cases\") / pl.col(\"population\")) * 100_000).alias(\"ratio\")\n",
        ")\n",
        "\n",
        "# Filter for 1999 and sort descending by ratio\n",
        "highest_ratio_1999 = (\n",
        "    table2_ratio\n",
        "    .filter(pl.col(\"year\") == 1999)\n",
        "    .sort(\"ratio\", descending=True)\n",
        "    .select([\"country\", \"ratio\"])\n",
        "    .head(1)\n",
        ")\n",
        "\n",
        "# Extract values\n",
        "country = highest_ratio_1999[0, 0]\n",
        "ratio_val = highest_ratio_1999[0, 1]\n",
        "\n",
        "print(f\"Highest cases per 100,000 people in 1999: {country} ({ratio_val:,.2f})\")"
      ]
    },
    {
      "cell_type": "markdown",
      "metadata": {
        "id": "PvgXi0EOzUJt"
      },
      "source": [
        "### Answer: The country with the highest cases/population ratio in 1999 is: BRAZIL__________"
      ]
    },
    {
      "cell_type": "markdown",
      "metadata": {
        "id": "pFsrHlB5zUJu"
      },
      "source": [
        "## Submission Instructions\n",
        "\n",
        "1. Complete all code cells above\n",
        "2. Run all cells to ensure they execute without errors\n",
        "3. Fill in the answer blanks with your computed values\n",
        "4. Save and submit your completed notebook"
      ]
    }
  ],
  "metadata": {
    "kernelspec": {
      "display_name": "Python 3",
      "language": "python",
      "name": "python3"
    },
    "language_info": {
      "codemirror_mode": {
        "name": "ipython",
        "version": 3
      },
      "file_extension": ".py",
      "mimetype": "text/x-python",
      "name": "python",
      "nbconvert_exporter": "python",
      "pygments_lexer": "ipython3",
      "version": "3.9.0"
    },
    "colab": {
      "provenance": []
    }
  },
  "nbformat": 4,
  "nbformat_minor": 0
}